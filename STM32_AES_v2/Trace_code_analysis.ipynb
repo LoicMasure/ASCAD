{
  "nbformat": 4,
  "nbformat_minor": 0,
  "metadata": {
    "kernelspec": {
      "display_name": "Python 3",
      "language": "python",
      "name": "python3"
    },
    "language_info": {
      "codemirror_mode": {
        "name": "ipython",
        "version": 3
      },
      "file_extension": ".py",
      "mimetype": "text/x-python",
      "name": "python",
      "nbconvert_exporter": "python",
      "pygments_lexer": "ipython3",
      "version": "3.6.6"
    },
    "colab": {
      "name": "Trace_code_analysis.ipynb",
      "provenance": []
    }
  },
  "cells": [
    {
      "cell_type": "markdown",
      "metadata": {
        "id": "hjNDagdWT2yD"
      },
      "source": [
        "# Code and visual trace analyses\n",
        "### Supplementary material - Anonymous submission #18 to CHES 2021\n",
        "\n",
        "The goal of this notebook is to present the dataset and to provide a first code analysis of the public implementation in assembly, coupled with a visual inspection of the traces. The idea is to emphasize how a potential adversary could jointly exploit this information in order to localize some *Points of Interest* (PoIs) useful for an attack, even without the knowledge of a *Signal-to-Noise* (SNR) computation that would require the knowledge of the mask values during the profiling phase.\n",
        "\n",
        "Our analysis will rely on the assembly code available [on the SecAES STM32 Github](https://github.com/ANSSI-FR/SecAESSTM32/blob/master/src/aes/affine_aes.S)."
      ]
    },
    {
      "cell_type": "code",
      "metadata": {
        "id": "gSHlg7Hnmf1Z"
      },
      "source": [
        "%pip install brewer2mpl"
      ],
      "execution_count": null,
      "outputs": []
    },
    {
      "cell_type": "code",
      "metadata": {
        "collapsed": true,
        "id": "0kKaMRy1T2yO"
      },
      "source": [
        "import sys\n",
        "import os\n",
        "\n",
        "import h5py\n",
        "import matplotlib.pyplot as plt\n",
        "import numpy as np\n",
        "import brewer2mpl\n",
        "\n",
        "%matplotlib inline\n",
        "\n",
        "\n",
        "# Import from the raw data\n",
        "file_name = \"/content/snapshot.npy\"\n",
        "traces = np.load(file_name)"
      ],
      "execution_count": null,
      "outputs": []
    },
    {
      "cell_type": "markdown",
      "metadata": {
        "id": "b6EXOrz9T2yR"
      },
      "source": [
        "To make the visual analysis of the traces easier to compare with the code analysis, we propose to load a batch of $10$ traces, and to visualize its average. This would make a better discrepancy between the different operations to recognize."
      ]
    },
    {
      "cell_type": "code",
      "metadata": {
        "id": "GAK1Jf03T2yT"
      },
      "source": [
        "class RunningMean():\n",
        "    \"\"\"\n",
        "    A simple class that maintains the running mean of a random\n",
        "    variable.\n",
        "    \"\"\"\n",
        "    def __init__(self):\n",
        "        self.m = 0\n",
        "        self.n = 0\n",
        "    \n",
        "    def update(self, x_n):\n",
        "        \"\"\"\n",
        "        Updates the running mean with a new observation x_n of the random\n",
        "        variable X.\n",
        "        \"\"\"\n",
        "        x_n = np.array(x_n, dtype=np.float)\n",
        "        self.m = (self.n * self.m + x_n) / (self.n + 1)\n",
        "        self.n += 1\n",
        "    \n",
        "    def __call__(self):\n",
        "        return self.m\n",
        "\n",
        "\n",
        "trace_mean_ = RunningMean()    # Useful to compute the average on-the-fly without yielding numerical issues.\n",
        "for i, trace in enumerate(traces):\n",
        "    sys.stdout.write(\"\\rAdding trace {} to the average.\\t\".format(i))\n",
        "    trace_mean_.update(trace)\n",
        "trace_mean = trace_mean_()\n",
        "del traces"
      ],
      "execution_count": null,
      "outputs": []
    },
    {
      "cell_type": "markdown",
      "metadata": {
        "id": "0aBH0mJNT2yW"
      },
      "source": [
        "## 1. Code analysis of the pre-processing part\n",
        "\n",
        "The target implementation is an AES directly written in assembly with the ARM [ISA](http://infocenter.arm.com/help/index.jsp?topic=/com.arm.doc.ddi0337h/CHDDIGAC.html&_ga=2.185406826.231832108.1586949621-1015747362.1586772426). It is protected with two counter-measures:\n",
        "* [*Affine masking*](https://ia.cr/2010/523): any computation involving a sensitive variable is replaced by the processing of three other variables: $r_m, \\beta, r_m \\cdot Z + \\beta$.\n",
        "* *Random shuffling*: the order of the bytes in the AES state and in the key state is randomly shuffled.\n",
        "\n",
        "To implement those protections, the encryption is split into 3 main functions:\n",
        "* `aes_loadKey` (l. 1271): securely imports the secret key, protected with affine masking and random shuffling.\n",
        "* `aes_init_enc` (l. 1374): imports the masks used to protect the AES state according to the affine scheme, prepares the pre-computation tables.\n",
        "* `aes_enc` (l. 1535): imports the plaintext, protects it with the counter-measures, and runs the AES rounds before removing the masks and applying the inverse permutation at the end to return the ciphertext.\n",
        "\n",
        "We know from the implementation of the affine masking that to be able to succeed a recovery of the i-th key byte, an adversary must target one or several window(s) of the traces containing at least the following leakages:\n",
        "1. The multiplicative mask $r_m$\n",
        "2. One additive mask  $\\beta \\in \\{r_{in}, r_{out}, M[perm[i]]\\}$\n",
        "3. The masked variable $r_m \\cdot Z[perm[i]] + \\beta$, where $Z = f(P, K)$\n",
        "4. (Optional) The permutation indice $perm[i]$\n",
        "\n",
        "We distinguish two types of useful variables:\n",
        "* Those with fixed value along the execution of AES. They can be extracted from any round or even from the pre-processing: `permIndices`, `permIndicesbis`, `r_m`, `r_in`, `r_out`.\n",
        "* Those whose value evolves through the execution of the primitive: `stateM`, `maskedState`. They can only be recovered from the very first round.\n",
        "The latter type of variable being less likely to boradly leak in the traces, we choose to ignore it in our attacks. Hence, the goal of our code analysis is to detect the most relevant zones where the leakages of \n",
        "$$r_m, r_{in}, r_{out}, r_m \\cdot Z[perm[i]] + r_{in}, r_m \\cdot Z[perm[i]] + r_{out}, perm[i]$$\n",
        "could occur.\n",
        "We propose hereafter a brief code analysis of the pre-processing part."
      ]
    },
    {
      "cell_type": "markdown",
      "metadata": {
        "id": "VdqN4p0uT2yY"
      },
      "source": [
        "### Targeting the AES rounds is not sufficient\n",
        "For an attacker without any knowledge of the values of the random masks during the profiling phase, this step is necessary, as **the multiplicative mask $r_m$ alone cannot leak during the AES rounds**. Indeed, since it is common to every byte of the AES state, we have for all linear operation:\n",
        "$$f(r_m \\cdot Z \\oplus \\beta) = r_m \\cdot f(Z) \\oplus \\beta .$$\n",
        "For the non-linear `SubBytes` operation, as it is pre-computed in the pre-processing part, there is no leakage about $r_m$ alone.\n",
        "That is why it is necessary to localize some PoIs about $r_m$ either in the pre-processing step, or in the post-processing step. We consider in our attacks the former eventuality, letting the latter one to further work.\n",
        "\n",
        "Let us first look at the pre-processing step to identify where the leakage of $r_m$ may occur.\n",
        "The pre-processing part is made of the three following operations:\n",
        "* aes_loadKey:\n",
        "    * Loads the masks $M'[i]$ for $i \\in \\{0,..., 15\\}$, $r_{in}'$, $r_{out}'$ and $r'_m$;\n",
        "    * Computes the multiplicative table `Gtab` w.r.t. $r'_m$;\n",
        "    * Applies the multiplicative mask to the KeySchedule constant parameters;\n",
        "    * Loads the masked master key;\n",
        "    * Computes the two permutations for storing the key, one for $\\{0, ..., 15\\}$, one for $\\{0, .., 3\\}$;\n",
        "    * Pre-computes the Sbox used for the `KeySchedule`;\n",
        "    * Computes the round keys.\n",
        "    \n",
        "* aes_enc_init: \n",
        "    * Loads the masks $M[i]$ for $i \\in \\{0,..., 15\\}$, $r_{in}$, $r_{out}$ and $r_m$;\n",
        "    * Computes the multiplicative table `Gtab` w.r.t. $r_m$;\n",
        "    * Computes the two permutations, one for $\\{0, ..., 15\\}$, one for $\\{0, .., 3\\}$;\n",
        "    * Pre-computes the Sbox.\n",
        "* aes_enc:\n",
        "    * Loads the plaintext;\n",
        "    * Converts the multiplicative mask $r'_m$ applied to the key to  the one applied to the plaintext $r_m$;\n",
        "    * Computes the multiplicative table `Gtab`;\n",
        "    * Applies the multiplicative mask to the plaintext;\n",
        "    * Applies the additive mask to the plaintext;\n",
        "    * First `AddRoundKey`;\n",
        "    * 10 AES rounds.\n",
        "    \n",
        "    \n",
        "The patterns of the 10 AES rounds should be clearly distinguishable in the traces, hence we may use them first to localize the pre-processing part from the AES rounds.\n",
        "The plot below shows that both parts represent roughly half of the acquired traces."
      ]
    },
    {
      "cell_type": "markdown",
      "metadata": {
        "id": "zzzpWf59T2yZ"
      },
      "source": [
        "## 1. Global shape of the trace\n",
        "\n",
        "We plot below one of the raw traces, made of 1M time samples. This first plot enables to distinguish two parts:\n",
        "* The first half (roughly) cotains several patterns, and corresponds to the pre-processing of the execution of the protected AES.\n",
        "* The second half, made of 10 similar patterns, corresponds to the execution of the 10 rounds of AES as itself."
      ]
    },
    {
      "cell_type": "code",
      "metadata": {
        "id": "1-PIMOUWT2ya"
      },
      "source": [
        "fig=plt.figure(figsize=(15, 6))\n",
        "plt.plot(trace_mean)\n",
        "plt.axvline(450000, color=\"black\")\n",
        "plt.text(200000, 80, \"Pre-processing\")\n",
        "plt.text(700000, 80, \"AES rounds\")"
      ],
      "execution_count": null,
      "outputs": []
    },
    {
      "cell_type": "markdown",
      "metadata": {
        "id": "hZ6kxopPT2yb"
      },
      "source": [
        "What is also noticeable is that similar patterns may be found inside the operations `aes_loadKey`, `aes_enc_init`, and `aes_enc`. In particular, three `Gtab` and two `Sbox` pre-computations are made of 256-for-loops, that may be easily distinguishable from the remaining of the trace. On the contrary, the other elementary operations done here only contain much shorter loops, resulting in shorter patterns."
      ]
    },
    {
      "cell_type": "code",
      "metadata": {
        "scrolled": false,
        "id": "KKbdUy2sT2yb"
      },
      "source": [
        "fig=plt.figure(figsize=(15, 6))\n",
        "plt.plot(trace_mean)\n",
        "\n",
        "plt.fill_betweenx((-128,128), (20000, 20000), (95000, 95000), alpha=0.5, color=\"green\")\n",
        "plt.text(30000, 100, \"GTab\")\n",
        "plt.fill_betweenx((-128,128), (202000, 202000), (295000, 295000), alpha=0.5, color=\"green\")\n",
        "plt.text(210000, 100, \"GTab\")\n",
        "plt.fill_betweenx((-128,128), (362000, 362000), (440000, 440000), alpha=0.5, color=\"green\")\n",
        "plt.text(380000, 100, \"GTab\")\n",
        "\n",
        "plt.fill_betweenx((-128,128), (105000, 105000), (167000, 167000), alpha=0.5, color=\"red\")\n",
        "plt.text(115000, 100, \"Sbox\")\n",
        "plt.fill_betweenx((-128,128), (295000, 295000), (362000, 362000), alpha=0.5, color=\"red\")\n",
        "plt.text(310000, 100, \"Sbox\")\n",
        "\n",
        "plt.text(700000, 100, \"AES rounds\")"
      ],
      "execution_count": null,
      "outputs": []
    },
    {
      "cell_type": "markdown",
      "metadata": {
        "id": "SFZXAW8ZT2yd"
      },
      "source": [
        "### Which leakage choosing for $r_m$?\n",
        "\n",
        "We have seen that some informative leakage about $r_m$ may occur in both `compute_GTab` and `Compute_Affine_sboxMasked`. However, the time windows corresponding to the two operations are quite large, so we may want to restrict to only one chunk, without necessarily losing too much information about the multiplicative mask. Let us have a look at the assembly code, in order to find which operation may carry the most relevant leakage.\n",
        "\n",
        "#### `Load_random` (l. 398 - 450)\n",
        "This function loads all the masks, in particular $r_{in}, r_{out}$ and $r_m$ from the context and is called just before the function `Compute_GTab` (see below).\n",
        "The instructions are mainly loadings and storings, but the function does not contain any loop. The leakage of any mask is therefore expected to occur very punctually, and to be harder to localize, since there is no distinguishable pattern.\n",
        "\n",
        "#### `Compute_GTab` (l. 208 - 277)\n",
        "The computation table uses the logarithmic table. The value $\\log r_m$ is stored in the register `r7` that is then iteratively added to the current value $\\log x$ for $x \\in \\{1, ..., 255\\}$. However, it does not manipulate the other required masks $r_{in}$ and $r_{out}$.\n",
        "\n",
        "#### `Compute_Affine_sboxMasked` (l. 452 - 510)\n",
        "The pre-computation of the Sbox indirectly uses $r_m$, through the call to the `GTab` look-up table for each value of $x \\in \\{0, ..., 255\\}$. While maybe carrying as much information as the GTab computation, this operation may induce more complex leakage. \n",
        "\n",
        "In our attacks, we propose to restrict our focus on the leakage of the `Compute_GTab` operation and the `Load_random` just before. This corresponds to a $5,000$ times samples window: $[205000:210000]$ covering the end of the `Load_random` function and the beginning of the `Compute_GTab` function, as depicted hereafter."
      ]
    },
    {
      "cell_type": "code",
      "metadata": {
        "id": "I22e_BQET2ye"
      },
      "source": [
        "fig=plt.figure(figsize=(15, 3))\n",
        "left, right = 200000, 215000\n",
        "plt.plot(range(left, right), trace_mean[left:right])\n",
        "\n",
        "plt.axvline(201600, color=\"black\")\n",
        "plt.text(203000, 75, \"Loading $M[i]$\")\n",
        "\n",
        "plt.axvline(205000, color=\"black\")\n",
        "plt.text(205100, 75, \"Loading\\n$r_{in}, r_{out}, r_m$\")\n",
        "plt.axvline(206000, color=\"black\")\n",
        "\n",
        "plt.axvline(210000, color=\"black\")\n",
        "plt.text(209000, 75, \"Computing GTab[x]\")\n",
        "\n",
        "plt.fill_betweenx((-80,80), (205000, 205000), (210000, 210000), alpha=0.5, color=\"red\")"
      ],
      "execution_count": null,
      "outputs": []
    },
    {
      "cell_type": "markdown",
      "metadata": {
        "id": "4MPKrIv9T2yg"
      },
      "source": [
        "## 2. Localization of the remaining PoIs\n",
        "\n",
        "We now consider finding the remaining PoIs. The latter one must correspond to the leakage of the permutation indices, in order to possibly anihilate the effect of the shuffling counter-measure, and to the leakage of the masked variable. The latter one necessarily leaks during the AES rounds. Therefore, we propose to deeper study the code of the function `aes_enc`, in order to better localize those PoIs.\n",
        "\n",
        "### 2.1. Focus on the AES rounds\n",
        "\n",
        "We first restrict our visualization on the range $[400,000;1M]$. We still find the 10 similar patterns, confirming the presence of the AES rounds."
      ]
    },
    {
      "cell_type": "code",
      "metadata": {
        "id": "5TJHtusiT2yh"
      },
      "source": [
        "fig=plt.figure(figsize=(15, 6))\n",
        "\n",
        "bounds = [454500, 500000, 545000, 590000, 635000, 680000, 725000, 770000, 818000, 863000, 897000]\n",
        "colors = [\"green\", \"red\", \"blue\", \"orange\", \"magenta\", \"chartreuse\"]\n",
        "\n",
        "for i in range(0, len(bounds)-1):\n",
        "    plt.fill_betweenx((-100, 100), (bounds[i], bounds[i]), (bounds[i+1], bounds[i+1]), alpha=0.3, color=colors[i%len(colors)])\n",
        "    plt.text((bounds[i]*5 + bounds[i+1])/6, 80, \"Round {}\".format(i+1))\n",
        "\n",
        "plt.plot(np.arange(400000, 1e6), trace_mean[400000:])"
      ],
      "execution_count": null,
      "outputs": []
    },
    {
      "cell_type": "code",
      "metadata": {
        "id": "0ucbxyusT2yh"
      },
      "source": [
        "fig=plt.figure(figsize=(15, 6))\n",
        "ax = fig.add_subplot(111)\n",
        "bmap = brewer2mpl.get_map('Spectral', 'diverging', 11)\n",
        "colors = bmap.mpl_colors\n",
        "\n",
        "bounds = [454500, 500000, 545000, 590000, 635000, 680000, 725000, 770000, 818000, 863000, 897000]\n",
        "\n",
        "for i in range(0, len(bounds)-1):\n",
        "    ax.fill_betweenx((-128, 128), (bounds[i], bounds[i]), (bounds[i+1], bounds[i+1]), alpha=0.8, color=colors[i%len(colors)])\n",
        "    ax.text((bounds[i]*5 + bounds[i+1])/6, 100, \"R {}\".format(i+1))\n",
        "\n",
        "bmap = brewer2mpl.get_map('Set2', 'qualitative', 7)\n",
        "colors = bmap.mpl_colors\n",
        "\n",
        "ax.fill_betweenx((-128,128), (20000, 20000), (95000, 95000), alpha=0.7, color=colors[0])\n",
        "ax.text(30000, 100, \"GTab\\n  KS\")\n",
        "ax.fill_betweenx((-128,128), (202000, 202000), (295000, 295000), alpha=0.7, color=colors[0])\n",
        "ax.text(210000, 100, \"GTab\")\n",
        "ax.fill_betweenx((-128,128), (362000, 362000), (440000, 440000), alpha=0.7, color=colors[0])\n",
        "ax.text(380000, 100, \"GTab\")\n",
        "\n",
        "ax.fill_betweenx((-128,128), (105000, 105000), (167000, 167000), alpha=0.7, color=colors[1])\n",
        "ax.text(115000, 100, \"Sbox\\n  KS\")\n",
        "ax.fill_betweenx((-128,128), (295000, 295000), (362000, 362000), alpha=0.7, color=colors[1])\n",
        "ax.text(310000, 100, \"Sbox\")\n",
        "\n",
        "ax.text(920000, 100, \"Post-processing:\\nRemoving masks\")\n",
        "\n",
        "ax.plot(trace_mean)\n",
        "\n",
        "ax.set_xlabel(\"Time (samples)\")\n",
        "\n",
        "ax.spines['top'].set_visible(False)\n",
        "ax.spines['right'].set_visible(False)\n",
        "ax.spines['left'].set_visible(False)"
      ],
      "execution_count": null,
      "outputs": []
    },
    {
      "cell_type": "markdown",
      "metadata": {
        "id": "y2BiiQKQT2yi"
      },
      "source": [
        "### 2.2. Focus on the first AES round\n",
        "We now focus on the first AES round, in order to identify the underlying operations. We distinguish 8 different zones, each containing similar patterns inside. Below, we even delimit each zone."
      ]
    },
    {
      "cell_type": "code",
      "metadata": {
        "id": "4-wQCSWRT2yi"
      },
      "source": [
        "left, right = 450000, 510000\n",
        "fig=plt.figure(figsize=(15, 6))\n",
        "plt.plot(np.arange(left, right), trace_mean[left:right])\n",
        "\n",
        "bounds = [450000, 454500, 462000, 467000, 472500, 478500, 483500, 488000, 493000, 499500, 510000]\n",
        "colors = [\"green\", \"red\", \"blue\", \"orange\", \"magenta\", \"chartreuse\"]\n",
        "\n",
        "for i in range(1, len(bounds)-2):\n",
        "    plt.fill_betweenx((-100, 100), (bounds[i], bounds[i]), (bounds[i+1], bounds[i+1]), alpha=0.3, color=colors[i%len(colors)])\n",
        "    plt.text((bounds[i]*3 + bounds[i+1])/4, 80, \"Zone {}\".format(i))\n",
        " "
      ],
      "execution_count": null,
      "outputs": []
    },
    {
      "cell_type": "markdown",
      "metadata": {
        "id": "HJ0kPxheT2yj"
      },
      "source": [
        "### 2.3. Focus on each zone\n",
        "Hereafter, we try to identify each zone to a piece of assembly code, by identifying the elementary patterns inside them. Then, we will compare the occurence of those patterns with the assembly code, in order to match them.\n",
        "\n",
        "We begin by the Zone 1, plotted below. We observe **16 identical patterns**, delimited by the black vertical lines."
      ]
    },
    {
      "cell_type": "code",
      "metadata": {
        "id": "mAMOCy-8T2yj"
      },
      "source": [
        "left, right = 454000, 462000\n",
        "fig=plt.figure(figsize=(15, 6))\n",
        "plt.plot(np.arange(left, right), trace_mean[left:right])\n",
        "plt.axvline(455500, color=\"black\")\n",
        "plt.axvline(461500, color=\"black\")\n",
        "plt.title(\"Zone 1\")"
      ],
      "execution_count": null,
      "outputs": []
    },
    {
      "cell_type": "markdown",
      "metadata": {
        "id": "1JfF-4LVT2yk"
      },
      "source": [
        "We continue with the Zone 2 plotted below, on which we also recognize **16 similar patterns** although the latter ones are different from the ones observed in the Zone 1."
      ]
    },
    {
      "cell_type": "code",
      "metadata": {
        "id": "4t8r-r3RT2yk"
      },
      "source": [
        "left, right = 461000, 468000\n",
        "fig=plt.figure(figsize=(15, 6))\n",
        "plt.plot(np.arange(left, right), trace_mean[left:right])\n",
        "plt.axvline(462000, color=\"black\")\n",
        "plt.axvline(467000, color=\"black\")\n",
        "plt.title(\"Zone 2\")"
      ],
      "execution_count": null,
      "outputs": []
    },
    {
      "cell_type": "markdown",
      "metadata": {
        "id": "gnrm0NBUT2yl"
      },
      "source": [
        "Likewise, the Zone 3 plotted below depicts **16 similar patterns**, here again seemingly different from the previous ones."
      ]
    },
    {
      "cell_type": "code",
      "metadata": {
        "id": "TXFxIfUbT2yl"
      },
      "source": [
        "left, right = 467000, 473000\n",
        "fig=plt.figure(figsize=(15, 6))\n",
        "plt.plot(np.arange(left, right), trace_mean[left:right])\n",
        "plt.axvline(467300, color=\"black\")\n",
        "plt.axvline(472000, color=\"black\")\n",
        "plt.title(\"Zone 3\")"
      ],
      "execution_count": null,
      "outputs": []
    },
    {
      "cell_type": "markdown",
      "metadata": {
        "id": "6CkJiBbcT2yn"
      },
      "source": [
        "Same thing here with the Zone 4 depicted below, with **16 similar patterns**."
      ]
    },
    {
      "cell_type": "code",
      "metadata": {
        "id": "4Wm4KaLWT2yn"
      },
      "source": [
        "left, right = 471500, 479000\n",
        "fig=plt.figure(figsize=(15, 6))\n",
        "plt.plot(np.arange(left, right), trace_mean[left:right])\n",
        "plt.axvline(472100, color=\"black\")\n",
        "plt.axvline(478500, color=\"black\")\n",
        "plt.title(\"Zone 4\")"
      ],
      "execution_count": null,
      "outputs": []
    },
    {
      "cell_type": "markdown",
      "metadata": {
        "id": "mnVgwf8lT2yo"
      },
      "source": [
        "Idem with the Zone 5 plotted below, with **16 similar patterns**."
      ]
    },
    {
      "cell_type": "code",
      "metadata": {
        "id": "Eh-k6pB7T2yo"
      },
      "source": [
        "left, right = 478000, 483500\n",
        "fig=plt.figure(figsize=(15, 6))\n",
        "plt.plot(np.arange(left, right), trace_mean[left:right])\n",
        "plt.axvline(479000, color=\"black\")\n",
        "plt.axvline(483100, color=\"black\")\n",
        "plt.title(\"Zone 5\")"
      ],
      "execution_count": null,
      "outputs": []
    },
    {
      "cell_type": "markdown",
      "metadata": {
        "id": "XXL6ESJ4T2yo"
      },
      "source": [
        "Now interestingly, we have below **4 different patterns** in the Zone 6, each made of **4 sub-patterns**."
      ]
    },
    {
      "cell_type": "code",
      "metadata": {
        "id": "SjXBj1UDT2yp"
      },
      "source": [
        "left, right = 482500, 488500 \n",
        "fig=plt.figure(figsize=(15, 6))\n",
        "plt.plot(np.arange(left, right), trace_mean[left:right])\n",
        "plt.axvline(483200, color=\"black\")\n",
        "plt.axvline(487700, color=\"black\")\n",
        "plt.title(\"Zone 6\")"
      ],
      "execution_count": null,
      "outputs": []
    },
    {
      "cell_type": "markdown",
      "metadata": {
        "id": "XSbgu5uVT2yr"
      },
      "source": [
        "Likewise, the same pattern can be observed on the Zone 7, namely **4 patterns each made of 4 sub-patterns**."
      ]
    },
    {
      "cell_type": "code",
      "metadata": {
        "id": "Rl2d6gXGT2yr"
      },
      "source": [
        "left, right = 487500, 493500\n",
        "fig=plt.figure(figsize=(15, 6))\n",
        "plt.plot(np.arange(left, right), trace_mean[left:right])\n",
        "plt.axvline(488000, color=\"black\")\n",
        "plt.axvline(492500, color=\"black\")\n",
        "plt.title(\"Zone 7\")"
      ],
      "execution_count": null,
      "outputs": []
    },
    {
      "cell_type": "markdown",
      "metadata": {
        "id": "h0hCCBtpT2ys"
      },
      "source": [
        "Finally, we recognize in the Zone 8 **32 blocs**, delimited by the black vertical lines below."
      ]
    },
    {
      "cell_type": "code",
      "metadata": {
        "id": "g12JhszuT2ys"
      },
      "source": [
        "left, right = 492000, 503000\n",
        "fig=plt.figure(figsize=(15, 6))\n",
        "plt.plot(np.arange(left, right), trace_mean[left:right])\n",
        "plt.axvline(493000, color=\"black\")\n",
        "plt.axvline(499500, color=\"black\")\n",
        "plt.title(\"Zone 8\")"
      ],
      "execution_count": null,
      "outputs": []
    },
    {
      "cell_type": "markdown",
      "metadata": {
        "id": "8bPuEdxmT2yt"
      },
      "source": [
        "Now let us compare the observed patterns in the different Zones with the assembly code provided to the attacker/evaluator.\n",
        "We recognize several loops that can be explicitly unrolled depending on the compiling options:\n",
        "\n",
        "* `SubBytes` (Zone 1):\n",
        "    * Loop of 4 to substitute the additive mask with $r_{in}$, word-wise\n",
        "    * Loop of 16 to appply the SBox on each byte\n",
        "    * Loop of 4 to remove the additive mask $r_{out}$, applied word-wise\n",
        "* `ShiftRows` (Zones 2-5):\n",
        "    * Loop of 16 to apply ShiftRows on `maskedState` and storing it on a temporary table\n",
        "    * Loop of 16 to move the result to `maskedState`\n",
        "    * Loop of 16 to apply ShiftRows on `stateM` and storing it on a temporary table\n",
        "    * Loop of 16 to move the result to `stateM`\n",
        "* `MixColumns` (Zones 6-7):\n",
        "    * Loop of 4 to apply the operation column-wise, i.e. 4 sub-patterns for `stateM`\n",
        "    * Idem on `maskedState`\n",
        "* `AddRoundKey` (Zone 8):\n",
        "    * Loop of 16, containing 2 similar sub-patterns, first ARK on `stateM`, then on `maskedState`, hence the 32 similar patterns.\n",
        "\n",
        "The particular status of the `MixColumns` operation provides an easy discrepancy compared to the other operations. Therefore, we deduce that the Zones 6 and 7 correspond to the two `MixColumns`. We then deduce the remaining operations previously identified: the first Zone corresponds to `SubBytes`, and that the first `AddRoundKey` is done just before. We can then try to identify it on the trace. Below, we recognize here the 32 similar patterns, which confirms that the trace chunk corresponds to the first `AddRoundKey`, as expected."
      ]
    },
    {
      "cell_type": "code",
      "metadata": {
        "id": "SZOoHWqzT2yt"
      },
      "source": [
        "left, right = 445000, 455000\n",
        "fig=plt.figure(figsize=(15, 6))\n",
        "plt.plot(np.arange(left, right), trace_mean[left:right])\n",
        "plt.axvline(447500, color=\"black\")\n",
        "plt.axvline(454500, color=\"black\")\n",
        "plt.title(\"AddRoundKey, Round 0\")"
      ],
      "execution_count": null,
      "outputs": []
    },
    {
      "cell_type": "markdown",
      "metadata": {
        "id": "J8pbxANVT2yu"
      },
      "source": [
        "### 2.4. Overall target window\n",
        "\n",
        "In our attack, we restrict our traces to the following target window: $[455000:465000]$. Indeed, we have seen that this window widely covers the whole `SubBytes` operation, along with the preliminary swap of mask between `stateM` and $r_{in}$ and the posterior swap between $r_{out}$ and `stateM`."
      ]
    },
    {
      "cell_type": "code",
      "metadata": {
        "id": "cjNMdxbjT2yu"
      },
      "source": [
        "fig=plt.figure(figsize=(15, 3))\n",
        "left, right = 448000, 467000\n",
        "plt.plot(range(left, right), trace_mean[left:right])\n",
        "\n",
        "\n",
        "plt.axvline(454000, color=\"black\")\n",
        "plt.axvline(455500, color=\"black\")\n",
        "plt.axvline(461000, color=\"black\")\n",
        "plt.axvline(462000, color=\"black\")\n",
        "\n",
        "\n",
        "plt.text(451000, -80, \"End of ARK\")\n",
        "plt.text(454000, -80, \"Changing \\n$state_M[i]$ \\nto $r_{in}$\")\n",
        "plt.text(457000, -80, \"SubBytes\")\n",
        "plt.text(461000, -80, \"Changing \\n$r_{out}$ \\nto $stateM[i]$\")\n",
        "plt.text(463000, -80, \"ShiftRows\")\n",
        "\n",
        "plt.fill_betweenx((-80,80), (455000, 455000), (465000, 465000), alpha=0.5, color=\"red\")"
      ],
      "execution_count": null,
      "outputs": []
    },
    {
      "cell_type": "markdown",
      "metadata": {
        "id": "A3UgWzn4T2yv"
      },
      "source": [
        "### 2.5. `permIndices` localization\n",
        "\n",
        "We have seen that our target window covers the whole SubBytes operation, along with some potential leakages of relevant masks such as $r_{in}$ or $r_{out}$. But we have not verified yet that our target window does cover some leakages about the permutation indices. Although not mandatory, exploiting such leakages would help the adversary to mitigate the effect of random shuffling. Hopefully, such leakages are indeed present inside our target window. To justify this, we recall hereafter a chunk of assembly code inside the loop of the `SubBytes` operation. It clearly shows that the `permIndices` table leaks inside the target window.\n",
        "\n",
        "```\n",
        "\t ldrb r0, [r5], #1\t\t\t\t// r0 = permIndices[i]\n",
        "\t ldrb r4, [r3, r0]\t\t\t\t// r4 = State[permIndices[i]]\n",
        "\t ldrb r6, [r10, r0]\t\t\t   // r6 = State2[permIndices[i]]\n",
        "\t eor  r4, r6 \t\t\t\t\t // r4 = State[permIndices[i]] ^ State2[permIndices[i]]\n",
        "\t ldrb r4, [r8, r4]\t\t\t\t// r4 = sboxMasked[State[permIndices[i]] ^ State2[permIndices[i]]]\n",
        "\t eor  r4, r6 \t\t\t\t\t // r4 = sboxMasked[State[permIndices[i]]\n",
        "\t strb r4, [r3, r0]\t\t\t\t// store the result r4 in State[permIndices[i]]\n",
        "```"
      ]
    },
    {
      "cell_type": "markdown",
      "metadata": {
        "id": "JVXtgQDvyJ90"
      },
      "source": [
        "# **Conclusion**\n",
        "\n",
        "Altogether, our proposed target window covers all the leakages necessary to succeed an attack. We insist yet on the fact that our target window is not unique, and other windows could be as relevant as ours, if not more."
      ]
    }
  ]
}